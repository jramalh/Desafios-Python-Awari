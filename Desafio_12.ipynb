{
 "cells": [
  {
   "cell_type": "markdown",
   "metadata": {
    "colab_type": "text",
    "id": "view-in-github"
   },
   "source": [
    "![](https://i.imgur.com/YX6UATs.png)"
   ]
  },
  {
   "cell_type": "markdown",
   "metadata": {
    "colab_type": "text",
    "id": "AYHY2YXQf6J2"
   },
   "source": [
    "### Desafio 12\n",
    "\n",
    "Escreva uma função em Python para verificar a validade de uma senha.\n",
    "\n",
    "A senha deve ter:\n",
    "\n",
    "* Pelo menos 1 letra entre [a-z] e 1 letra entre [A-Z].\n",
    "* Pelo menos 1 número entre [0-9].\n",
    "* Pelo menos 1 caractere de [$ # @].\n",
    "* Comprimento mínimo de 6 caracteres.\n",
    "* Comprimento máximo de 16 caracteres.\n",
    "\n",
    "Entradas: \"12345678\", \"J3sus0\", \"#Te5t300\", \"J*90j12374\", \"Michheeul\", \"Monk3y6\"\n",
    "\n",
    "A saída deve ser a senha e um texto indicando se a senha é válida ou inválida:\n",
    "\n",
    "```\n",
    "\"1234\" - Senha inválida\n",
    "\"Qw#1234\" - Senha válida\n",
    "```"
   ]
  },
  {
   "cell_type": "markdown",
   "metadata": {},
   "source": [
    "# Método 1 - usando a biblioteca string\n",
    "\n",
    "A biblioteca string, que usamos para pegar pontuação no desafio 8, tem uma lista de caracteres maiusculos e minusculos.\n",
    "\n",
    "- minusculas: string.ascii_lowercase\n",
    "- maiusculas: string.ascii_uppercas\n",
    "- numeros: string.digits\n",
    "- Caracteres especiais podemos criar nós mesmos: '$#@'\n",
    "\n",
    "Com estas listas, é só verificar se a senha contém minuscula, maiuscula, especial e, naturalmente, verificar o tamanho:"
   ]
  },
  {
   "cell_type": "code",
   "execution_count": 42,
   "metadata": {},
   "outputs": [],
   "source": [
    "def verifica_senha(senha):\n",
    "    minusculas = string.ascii_lowercase\n",
    "    maiusculas = string.ascii_uppercase\n",
    "    numeros = string.digits\n",
    "    especiais = '$#@'\n",
    "    regras_caracteres = [minusculas, maiusculas, numeros, especiais]\n",
    "\n",
    "    min_tamanho = 6\n",
    "    max_tamanho = 16\n",
    "    \n",
    "    errors = []\n",
    "    for regra in regras_caracteres:\n",
    "        check = [caracter for caracter in senha if caracter in regra]\n",
    "        if len(check)==0:\n",
    "            errors.append(f\"Erro na regra: {regra}\")\n",
    "    if len(senha)<min_tamanho:\n",
    "        errors.append(\"Senha muito pequena\")\n",
    "    if len(senha)>max_tamanho: \n",
    "        errors.append(\"Senha muito grande\")\n",
    "    if len(errors)>0:\n",
    "        print(errors)\n",
    "        return \"Senha invalida\"\n",
    "    else:\n",
    "        return \"Senha valida\""
   ]
  },
  {
   "cell_type": "code",
   "execution_count": 46,
   "metadata": {},
   "outputs": [
    {
     "name": "stdout",
     "output_type": "stream",
     "text": [
      "['Erro na regra: abcdefghijklmnopqrstuvwxyz', 'Erro na regra: 0123456789', 'Erro na regra: $#@', 'Senha muito pequena']\n"
     ]
    },
    {
     "data": {
      "text/plain": [
       "'Senha invalida'"
      ]
     },
     "execution_count": 46,
     "metadata": {},
     "output_type": "execute_result"
    }
   ],
   "source": [
    "verifica_senha(\"TESTE\")"
   ]
  },
  {
   "cell_type": "markdown",
   "metadata": {
    "colab": {},
    "colab_type": "code",
    "id": "UGgtGYGGf6J3"
   },
   "source": [
    "# Método 2 - Usando regex\n",
    "Regex (também conhecido como \"regular expression\") é uma expressão que define um padrão de strings, que pode ser usado para identificar essa ocorrência em textos. Por exemplo:\n",
    "- `[0-9]`: numeros\n",
    "- `[a-z]`: letras minusculas\n",
    "- `[A-Z]`: letras maiusculas\n",
    "- `[$#@]`: Caracteres $, # e @\n",
    "\n",
    "É uma ferramenta muito poderosa e flexível, cheia de possiblidades. Segue uma referência rápida caso queiram se aprofundar: https://www.dataquest.io/wp-content/uploads/2019/03/python-regular-expressions-cheat-sheet.pdf\n",
    "\n",
    "Para python, o uso de regex é feito através da biblioteca `re`"
   ]
  },
  {
   "cell_type": "code",
   "execution_count": 48,
   "metadata": {},
   "outputs": [],
   "source": [
    "import re"
   ]
  },
  {
   "cell_type": "code",
   "execution_count": 49,
   "metadata": {},
   "outputs": [],
   "source": [
    "def verifica_senha(senha):\n",
    "    regras_regex = [\"[0-9]\", \"[a-z]\", \"[A-Z]\", \"[$#@]\"]\n",
    "    min_tamanho = 6\n",
    "    max_tamanho = 16\n",
    "    errors = []\n",
    "    for regra in regras_regex:\n",
    "        if len(re.findall(regra, senha))==0:\n",
    "            errors.append(f\"Falha na regra {regra}\")\n",
    "    if len(senha)<min_tamanho:\n",
    "        errors.append(\"Senha muito pequena\")\n",
    "    if len(senha)>max_tamanho: \n",
    "        errors.append(\"Senha muito grande\")\n",
    "    if len(errors)>0:\n",
    "        print(errors)\n",
    "        return \"Senha invalida\"\n",
    "    else:\n",
    "        return \"Senha valida\""
   ]
  }
 ],
 "metadata": {
  "anaconda-cloud": {},
  "colab": {
   "include_colab_link": true,
   "name": "Desafio 12.ipynb",
   "provenance": []
  },
  "kernelspec": {
   "display_name": "Python 3",
   "language": "python",
   "name": "python3"
  },
  "language_info": {
   "codemirror_mode": {
    "name": "ipython",
    "version": 3
   },
   "file_extension": ".py",
   "mimetype": "text/x-python",
   "name": "python",
   "nbconvert_exporter": "python",
   "pygments_lexer": "ipython3",
   "version": "3.8.6"
  }
 },
 "nbformat": 4,
 "nbformat_minor": 4
}
