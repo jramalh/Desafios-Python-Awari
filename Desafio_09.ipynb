{
 "cells": [
  {
   "cell_type": "markdown",
   "metadata": {
    "colab_type": "text",
    "id": "view-in-github"
   },
   "source": [
    "![](https://i.imgur.com/YX6UATs.png)"
   ]
  },
  {
   "cell_type": "markdown",
   "metadata": {
    "colab_type": "text",
    "id": "HpvTpUBGf6Jr"
   },
   "source": [
    "### Desafio 9\n",
    "\n",
    "Escreva uma função que retorne a soma dos múltiplos de 3 e 5 entre 0 e um número limite, que vai ser utilizado como parâmetro. \\\n",
    "Por exemplo, se o limite for 20, ele retornará a soma de 3, 5, 6, 9, 10, 12, 15, 18, 20."
   ]
  },
  {
   "cell_type": "code",
   "execution_count": null,
   "metadata": {
    "colab": {},
    "colab_type": "code",
    "id": "195C6bw-f6Js"
   },
   "outputs": [],
   "source": [
    "# Seu código"
   ]
  },
  {
   "cell_type": "markdown",
   "metadata": {},
   "source": [
    "# Vamos usar o operador mod para ver se o número é divisível por 3 ou 5\n",
    "- O operador mod é representado pelo símbolo `%` e ele representa o resto da divisão entre dois números\n",
    "  - Ex: `5%2=1`, `4%3=1`, `9%6=3` etc\n",
    "- Ou seja, quando um número é divisível pelo outro, o mod é `0`\n",
    "  - Ex: `100%2=0`, `25%5=0`, `21%7=0`\n",
    "- Então para um número `n` ser divisível por 5, `n%5` precisa ser `0`. Mesma coisa para ser divisível por `3`\n",
    "- Ali no `for`, repare que coloquei `limite+1` pois ele que que inclua o limite. A função `range` em python cria lista até o limite, mas não incluindo ele. Então para incluí-lo, coloquei o limite+1.\n",
    "  - Ex: `range(3) = [0, 1, 2]`, `range(3+1) = [0, 1, 2, 3]`"
   ]
  },
  {
   "cell_type": "code",
   "execution_count": 16,
   "metadata": {
    "colab": {},
    "colab_type": "code",
    "id": "a_6aqcKp6wrN"
   },
   "outputs": [],
   "source": [
    "def retorna_soma(limite):\n",
    "    nums_to_return = []\n",
    "    for i in range(limite+1):\n",
    "        if (i%3==0) or (i%5==0):\n",
    "            nums_to_return.append(i)\n",
    "    return sum(nums_to_return)"
   ]
  },
  {
   "cell_type": "code",
   "execution_count": null,
   "metadata": {},
   "outputs": [],
   "source": []
  }
 ],
 "metadata": {
  "anaconda-cloud": {},
  "colab": {
   "include_colab_link": true,
   "name": "Desafio 9.ipynb",
   "provenance": []
  },
  "kernelspec": {
   "display_name": "Python 3",
   "language": "python",
   "name": "python3"
  },
  "language_info": {
   "codemirror_mode": {
    "name": "ipython",
    "version": 3
   },
   "file_extension": ".py",
   "mimetype": "text/x-python",
   "name": "python",
   "nbconvert_exporter": "python",
   "pygments_lexer": "ipython3",
   "version": "3.8.6"
  }
 },
 "nbformat": 4,
 "nbformat_minor": 4
}
