{
 "cells": [
  {
   "cell_type": "markdown",
   "metadata": {
    "colab_type": "text",
    "id": "view-in-github"
   },
   "source": [
    "![](https://i.imgur.com/YX6UATs.png)"
   ]
  },
  {
   "cell_type": "markdown",
   "metadata": {
    "colab_type": "text",
    "id": "a4-FLDRof6Jv"
   },
   "source": [
    "### Desafio 10\n",
    "\n",
    "Dada uma lista, divida-a em 3 partes iguais e reverta a ordem de cada lista.\n",
    "\n",
    "**Exemplo:** \n",
    "\n",
    "Entrada: \\\n",
    "sampleList = [11, 45, 8, 23, 14, 12, 78, 45, 89]\n",
    "\n",
    "Saída: \\\n",
    "Parte 1 [8, 45, 11] \\\n",
    "Parte 2 [12, 14, 23] \\\n",
    "Parte 3 [89, 45, 78] "
   ]
  },
  {
   "cell_type": "markdown",
   "metadata": {},
   "source": [
    "Aqui mais uma vez vamos usar o mod para ver se a lista é divisível em 3 partes iguais. Se não for, retornamos uma mensagem de erro.\n",
    "Se for divisível por 3, vamos verificar qual o tamanho de cada listinha e retornamos cada uma delas. Repare que:\n",
    "- Se a lista tem 12 elementos, eu vou retornar 3 listinhas de 4 elementos cada\n",
    "- Como python começa a contar do zero e não inclui o último elemento, o formato vai ser\n",
    "  - `lista[0:4]` - a primeira lista vai do elemento 0 até o elemento 3\n",
    "  - `lista[4:8]` - a segunda do elemento 4 ao 7\n",
    "  - `lista[8:12]` - a terceira do elemento 8 ao 11\n",
    "- Sendo assim, podemos criar uma regrinha simples para os índices: `[tamanho * i:tamanho * (i+1)]`\n",
    "  - No caso da primeira lista (indice 0), vai ser `[4 * 0:4*(0+1)] = [0:4]`\n",
    "  - No caso da segunda lista (indice 1), vai ser `[4 * 1:4*(1+1)] = [4:8]`\n",
    "  - No caso da segunda lista (indice 2), vai ser `[4 * 2:4*(2+1)] = [8:12]`"
   ]
  },
  {
   "cell_type": "code",
   "execution_count": 25,
   "metadata": {
    "colab": {},
    "colab_type": "code",
    "id": "IJ70pUjnf6Jw"
   },
   "outputs": [],
   "source": [
    "# Seu código\n",
    "def retorna_lista(lista):\n",
    "    tamanho_da_lista = len(lista)\n",
    "    if tamanho_da_lista%3 == 0:\n",
    "        tamanho_listinha = int(tamanho_da_lista/3)\n",
    "        for i in range(0,3):\n",
    "            listinha = lista[tamanho_listinha*i:tamanho_listinha*(i+1)][::-1]\n",
    "            print(f\"Parte {i+1}: {listinha}\")\n",
    "        return None\n",
    "    else: \n",
    "        return print(\"Nao divisivel por 3\")"
   ]
  },
  {
   "cell_type": "code",
   "execution_count": 27,
   "metadata": {},
   "outputs": [
    {
     "name": "stdout",
     "output_type": "stream",
     "text": [
      "Parte 1: [8, 45, 11]\n",
      "Parte 2: [12, 14, 23]\n",
      "Parte 3: [89, 45, 78]\n"
     ]
    }
   ],
   "source": [
    "retorna_lista([11, 45, 8, 23, 14, 12, 78, 45, 89])"
   ]
  },
  {
   "cell_type": "code",
   "execution_count": 3,
   "metadata": {},
   "outputs": [
    {
     "data": {
      "text/plain": [
       "[1, 2]"
      ]
     },
     "execution_count": 3,
     "metadata": {},
     "output_type": "execute_result"
    }
   ],
   "source": [
    "[1, 2, 3, 4, 5][0:2]"
   ]
  },
  {
   "cell_type": "code",
   "execution_count": null,
   "metadata": {},
   "outputs": [],
   "source": []
  }
 ],
 "metadata": {
  "anaconda-cloud": {},
  "colab": {
   "include_colab_link": true,
   "name": "Desafio 10.ipynb",
   "provenance": []
  },
  "kernelspec": {
   "display_name": "Python 3",
   "language": "python",
   "name": "python3"
  },
  "language_info": {
   "codemirror_mode": {
    "name": "ipython",
    "version": 3
   },
   "file_extension": ".py",
   "mimetype": "text/x-python",
   "name": "python",
   "nbconvert_exporter": "python",
   "pygments_lexer": "ipython3",
   "version": "3.8.6"
  }
 },
 "nbformat": 4,
 "nbformat_minor": 4
}
